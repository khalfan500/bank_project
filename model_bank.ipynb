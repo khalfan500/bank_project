{
 "cells": [
  {
   "cell_type": "code",
   "execution_count": null,
   "metadata": {},
   "outputs": [],
   "source": [
    "import pandas as pd\n",
    "import numpy as np\n",
    "import matplotlib.pyplot as plt\n",
    "import seaborn as sns\n",
    "%matplotlib inline"
   ]
  },
  {
   "cell_type": "markdown",
   "metadata": {},
   "source": [
    "# Feature Selection"
   ]
  },
  {
   "cell_type": "code",
   "execution_count": 2,
   "metadata": {},
   "outputs": [
    {
     "name": "stdout",
     "output_type": "stream",
     "text": [
      "<class 'pandas.core.frame.DataFrame'>\n",
      "RangeIndex: 8000 entries, 0 to 7999\n",
      "Data columns (total 21 columns):\n",
      " #   Column                   Non-Null Count  Dtype \n",
      "---  ------                   --------------  ----- \n",
      " 0   accountID                8000 non-null   int64 \n",
      " 1   town                     8000 non-null   object\n",
      " 2   country                  8000 non-null   object\n",
      " 3   age                      8000 non-null   object\n",
      " 4   job                      8000 non-null   object\n",
      " 5   married                  8000 non-null   object\n",
      " 6   education                8000 non-null   object\n",
      " 7   defaulted?               8000 non-null   object\n",
      " 8   current_balance          8000 non-null   object\n",
      " 9   housing                  8000 non-null   object\n",
      " 10  has_loan                 8000 non-null   object\n",
      " 11  last_contact             8000 non-null   object\n",
      " 12  cc_tr                    8000 non-null   object\n",
      " 13  last_contact_day         8000 non-null   object\n",
      " 14  last_contact_month       8000 non-null   object\n",
      " 15  last_contact_duration_s  8000 non-null   object\n",
      " 16  campaign                 8000 non-null   object\n",
      " 17  days_since_last_contact  8000 non-null   object\n",
      " 18  previous                 8000 non-null   object\n",
      " 19  poutcome                 8000 non-null   object\n",
      " 20  made_deposit             8000 non-null   object\n",
      "dtypes: int64(1), object(20)\n",
      "memory usage: 1.3+ MB\n"
     ]
    }
   ],
   "source": [
    "import pandas as pd\n",
    "mydata = pd.read_csv('bank-tr.csv')\n",
    "\n",
    "mydata['cc_tr'] = mydata['cc_tr'].astype('object')\n",
    "mydata['current_balance'] = mydata['current_balance'].astype('object')\n",
    "mydata['age'] = mydata['age'].astype('object')\n",
    "mydata['last_contact_day'] = mydata['last_contact_day'].astype('object')\n",
    "mydata['last_contact_duration_s'] = mydata['last_contact_duration_s'].astype('object')\n",
    "mydata['campaign'] = mydata['campaign'].astype('object')\n",
    "mydata['days_since_last_contact'] = mydata['days_since_last_contact'].astype('object')\n",
    "mydata['previous'] = mydata['previous'].astype('object')\n",
    "mydata['poutcome'] = mydata['poutcome'].astype('object')\n",
    "\n",
    "#Getting all the categorical columns except the target\n",
    "categorical_columns = mydata.select_dtypes(exclude = 'number').drop('made_deposit', axis = 1).columns\n",
    "mydata.info()"
   ]
  },
  {
   "cell_type": "code",
   "execution_count": 3,
   "metadata": {},
   "outputs": [
    {
     "name": "stdout",
     "output_type": "stream",
     "text": [
      "                     Column                 Hypothesis\n",
      "0                      town  No Reject Null Hypothesis\n",
      "1                   country  No Reject Null Hypothesis\n",
      "2                       age     Reject Null Hypothesis\n",
      "3                       job     Reject Null Hypothesis\n",
      "4                   married     Reject Null Hypothesis\n",
      "5                 education     Reject Null Hypothesis\n",
      "6                defaulted?     Reject Null Hypothesis\n",
      "7           current_balance     Reject Null Hypothesis\n",
      "8                   housing     Reject Null Hypothesis\n",
      "9                  has_loan     Reject Null Hypothesis\n",
      "10             last_contact     Reject Null Hypothesis\n",
      "11                    cc_tr  No Reject Null Hypothesis\n",
      "12         last_contact_day     Reject Null Hypothesis\n",
      "13       last_contact_month     Reject Null Hypothesis\n",
      "14  last_contact_duration_s     Reject Null Hypothesis\n",
      "15                 campaign     Reject Null Hypothesis\n",
      "16  days_since_last_contact     Reject Null Hypothesis\n",
      "17                 previous     Reject Null Hypothesis\n",
      "18                 poutcome     Reject Null Hypothesis\n"
     ]
    }
   ],
   "source": [
    "from scipy.stats import chi2_contingency\n",
    "\n",
    "chi2_check = []\n",
    "for i in categorical_columns:\n",
    "    if chi2_contingency(pd.crosstab(mydata['made_deposit'], mydata[i]))[1] < 0.05:\n",
    "        chi2_check.append('Reject Null Hypothesis')\n",
    "    else:\n",
    "        chi2_check.append('No Reject Null Hypothesis')\n",
    "res = pd.DataFrame(data = [categorical_columns, chi2_check] \n",
    "             ).T \n",
    "res.columns = ['Column', 'Hypothesis']\n",
    "print(res)"
   ]
  },
  {
   "cell_type": "code",
   "execution_count": 4,
   "metadata": {},
   "outputs": [],
   "source": [
    "df = pd.read_csv(\"bank-tr.csv\")"
   ]
  },
  {
   "cell_type": "code",
   "execution_count": 5,
   "metadata": {},
   "outputs": [
    {
     "data": {
      "text/html": [
       "<div>\n",
       "<style scoped>\n",
       "    .dataframe tbody tr th:only-of-type {\n",
       "        vertical-align: middle;\n",
       "    }\n",
       "\n",
       "    .dataframe tbody tr th {\n",
       "        vertical-align: top;\n",
       "    }\n",
       "\n",
       "    .dataframe thead th {\n",
       "        text-align: right;\n",
       "    }\n",
       "</style>\n",
       "<table border=\"1\" class=\"dataframe\">\n",
       "  <thead>\n",
       "    <tr style=\"text-align: right;\">\n",
       "      <th></th>\n",
       "      <th>accountID</th>\n",
       "      <th>town</th>\n",
       "      <th>country</th>\n",
       "      <th>age</th>\n",
       "      <th>job</th>\n",
       "      <th>married</th>\n",
       "      <th>education</th>\n",
       "      <th>defaulted?</th>\n",
       "      <th>current_balance</th>\n",
       "      <th>housing</th>\n",
       "      <th>...</th>\n",
       "      <th>last_contact</th>\n",
       "      <th>cc_tr</th>\n",
       "      <th>last_contact_day</th>\n",
       "      <th>last_contact_month</th>\n",
       "      <th>last_contact_duration_s</th>\n",
       "      <th>campaign</th>\n",
       "      <th>days_since_last_contact</th>\n",
       "      <th>previous</th>\n",
       "      <th>poutcome</th>\n",
       "      <th>made_deposit</th>\n",
       "    </tr>\n",
       "  </thead>\n",
       "  <tbody>\n",
       "    <tr>\n",
       "      <th>0</th>\n",
       "      <td>24634684</td>\n",
       "      <td>Crawley</td>\n",
       "      <td>UK</td>\n",
       "      <td>39</td>\n",
       "      <td>management</td>\n",
       "      <td>married</td>\n",
       "      <td>tertiary</td>\n",
       "      <td>no</td>\n",
       "      <td>-190</td>\n",
       "      <td>no</td>\n",
       "      <td>...</td>\n",
       "      <td>unknown</td>\n",
       "      <td>1</td>\n",
       "      <td>11</td>\n",
       "      <td>jun</td>\n",
       "      <td>893</td>\n",
       "      <td>8</td>\n",
       "      <td>-1</td>\n",
       "      <td>0</td>\n",
       "      <td>unknown</td>\n",
       "      <td>yes</td>\n",
       "    </tr>\n",
       "    <tr>\n",
       "      <th>1</th>\n",
       "      <td>80795929</td>\n",
       "      <td>Southend-on-Sea</td>\n",
       "      <td>UK</td>\n",
       "      <td>53</td>\n",
       "      <td>housemaid</td>\n",
       "      <td>married</td>\n",
       "      <td>primary</td>\n",
       "      <td>no</td>\n",
       "      <td>362</td>\n",
       "      <td>no</td>\n",
       "      <td>...</td>\n",
       "      <td>cellular</td>\n",
       "      <td>1</td>\n",
       "      <td>28</td>\n",
       "      <td>jul</td>\n",
       "      <td>1169</td>\n",
       "      <td>2</td>\n",
       "      <td>-1</td>\n",
       "      <td>0</td>\n",
       "      <td>unknown</td>\n",
       "      <td>yes</td>\n",
       "    </tr>\n",
       "    <tr>\n",
       "      <th>2</th>\n",
       "      <td>30786087</td>\n",
       "      <td>Gillingham</td>\n",
       "      <td>UK</td>\n",
       "      <td>79</td>\n",
       "      <td>retired</td>\n",
       "      <td>divorced</td>\n",
       "      <td>primary</td>\n",
       "      <td>no</td>\n",
       "      <td>2787</td>\n",
       "      <td>no</td>\n",
       "      <td>...</td>\n",
       "      <td>telephone</td>\n",
       "      <td>5</td>\n",
       "      <td>13</td>\n",
       "      <td>jul</td>\n",
       "      <td>617</td>\n",
       "      <td>1</td>\n",
       "      <td>377</td>\n",
       "      <td>1</td>\n",
       "      <td>success</td>\n",
       "      <td>yes</td>\n",
       "    </tr>\n",
       "    <tr>\n",
       "      <th>3</th>\n",
       "      <td>38925327</td>\n",
       "      <td>Gateshead</td>\n",
       "      <td>UK</td>\n",
       "      <td>43</td>\n",
       "      <td>services</td>\n",
       "      <td>single</td>\n",
       "      <td>secondary</td>\n",
       "      <td>no</td>\n",
       "      <td>550</td>\n",
       "      <td>yes</td>\n",
       "      <td>...</td>\n",
       "      <td>cellular</td>\n",
       "      <td>4</td>\n",
       "      <td>13</td>\n",
       "      <td>may</td>\n",
       "      <td>107</td>\n",
       "      <td>2</td>\n",
       "      <td>-1</td>\n",
       "      <td>0</td>\n",
       "      <td>unknown</td>\n",
       "      <td>no</td>\n",
       "    </tr>\n",
       "    <tr>\n",
       "      <th>4</th>\n",
       "      <td>30560733</td>\n",
       "      <td>Eastbourne</td>\n",
       "      <td>UK</td>\n",
       "      <td>35</td>\n",
       "      <td>technician</td>\n",
       "      <td>single</td>\n",
       "      <td>secondary</td>\n",
       "      <td>no</td>\n",
       "      <td>344</td>\n",
       "      <td>no</td>\n",
       "      <td>...</td>\n",
       "      <td>cellular</td>\n",
       "      <td>2</td>\n",
       "      <td>27</td>\n",
       "      <td>aug</td>\n",
       "      <td>519</td>\n",
       "      <td>16</td>\n",
       "      <td>-1</td>\n",
       "      <td>0</td>\n",
       "      <td>unknown</td>\n",
       "      <td>yes</td>\n",
       "    </tr>\n",
       "  </tbody>\n",
       "</table>\n",
       "<p>5 rows × 21 columns</p>\n",
       "</div>"
      ],
      "text/plain": [
       "   accountID             town country  age         job   married  education  \\\n",
       "0   24634684          Crawley      UK   39  management   married   tertiary   \n",
       "1   80795929  Southend-on-Sea      UK   53   housemaid   married    primary   \n",
       "2   30786087       Gillingham      UK   79     retired  divorced    primary   \n",
       "3   38925327        Gateshead      UK   43    services    single  secondary   \n",
       "4   30560733       Eastbourne      UK   35  technician    single  secondary   \n",
       "\n",
       "  defaulted?  current_balance housing  ... last_contact cc_tr  \\\n",
       "0         no             -190      no  ...      unknown     1   \n",
       "1         no              362      no  ...     cellular     1   \n",
       "2         no             2787      no  ...    telephone     5   \n",
       "3         no              550     yes  ...     cellular     4   \n",
       "4         no              344      no  ...     cellular     2   \n",
       "\n",
       "   last_contact_day  last_contact_month last_contact_duration_s  campaign  \\\n",
       "0                11                 jun                     893         8   \n",
       "1                28                 jul                    1169         2   \n",
       "2                13                 jul                     617         1   \n",
       "3                13                 may                     107         2   \n",
       "4                27                 aug                     519        16   \n",
       "\n",
       "   days_since_last_contact  previous  poutcome made_deposit  \n",
       "0                       -1         0   unknown          yes  \n",
       "1                       -1         0   unknown          yes  \n",
       "2                      377         1   success          yes  \n",
       "3                       -1         0   unknown           no  \n",
       "4                       -1         0   unknown          yes  \n",
       "\n",
       "[5 rows x 21 columns]"
      ]
     },
     "execution_count": 5,
     "metadata": {},
     "output_type": "execute_result"
    }
   ],
   "source": [
    "df.head()"
   ]
  },
  {
   "cell_type": "code",
   "execution_count": 6,
   "metadata": {},
   "outputs": [],
   "source": [
    "\n",
    "newdf = df[['age','job', 'married','education', 'defaulted?','current_balance','housing','has_loan','last_contact','last_contact_day','last_contact_month','last_contact_duration_s','campaign','previous','poutcome','made_deposit']].copy()\n"
   ]
  },
  {
   "cell_type": "markdown",
   "metadata": {},
   "source": [
    "# Data Preparation "
   ]
  },
  {
   "cell_type": "code",
   "execution_count": 7,
   "metadata": {},
   "outputs": [],
   "source": [
    "newdf = newdf[newdf.last_contact_month != 'j']\n",
    "newdf = newdf[newdf.has_loan != 'n']"
   ]
  },
  {
   "cell_type": "code",
   "execution_count": 8,
   "metadata": {},
   "outputs": [
    {
     "data": {
      "text/plain": [
       "age                        0\n",
       "job                        0\n",
       "married                    0\n",
       "education                  0\n",
       "defaulted?                 0\n",
       "current_balance            0\n",
       "housing                    0\n",
       "has_loan                   0\n",
       "last_contact               0\n",
       "last_contact_day           0\n",
       "last_contact_month         0\n",
       "last_contact_duration_s    0\n",
       "campaign                   0\n",
       "previous                   0\n",
       "poutcome                   0\n",
       "made_deposit               0\n",
       "dtype: int64"
      ]
     },
     "execution_count": 8,
     "metadata": {},
     "output_type": "execute_result"
    }
   ],
   "source": [
    "newdf.isnull().sum()"
   ]
  },
  {
   "cell_type": "code",
   "execution_count": 9,
   "metadata": {},
   "outputs": [
    {
     "data": {
      "text/plain": [
       "has_loan\n",
       "n         5\n",
       "no     6963\n",
       "yes    1031\n",
       "Name: accountID, dtype: int64"
      ]
     },
     "execution_count": 9,
     "metadata": {},
     "output_type": "execute_result"
    }
   ],
   "source": [
    "df.groupby('has_loan')['accountID'].nunique()"
   ]
  },
  {
   "cell_type": "code",
   "execution_count": 10,
   "metadata": {},
   "outputs": [
    {
     "name": "stdout",
     "output_type": "stream",
     "text": [
      "age                          17.00\n",
      "current_balance            1574.00\n",
      "last_contact_day             14.00\n",
      "last_contact_duration_s     363.75\n",
      "campaign                      2.00\n",
      "previous                      1.00\n",
      "dtype: float64\n"
     ]
    }
   ],
   "source": [
    "Q1 = newdf.quantile(0.25)\n",
    "Q3 = newdf.quantile(0.75)\n",
    "IQR = Q3 - Q1\n",
    "print(IQR)"
   ]
  },
  {
   "cell_type": "code",
   "execution_count": 11,
   "metadata": {},
   "outputs": [
    {
     "name": "stdout",
     "output_type": "stream",
     "text": [
      "1574.0\n"
     ]
    }
   ],
   "source": [
    "Q1 = newdf['current_balance'].quantile(0.25)\n",
    "Q3 = newdf['current_balance'].quantile(0.75)\n",
    "IQR = Q3 - Q1\n",
    "print(IQR)"
   ]
  },
  {
   "cell_type": "code",
   "execution_count": 12,
   "metadata": {},
   "outputs": [
    {
     "name": "stdout",
     "output_type": "stream",
     "text": [
      "0       False\n",
      "1       False\n",
      "2       False\n",
      "3       False\n",
      "4       False\n",
      "        ...  \n",
      "7995    False\n",
      "7996    False\n",
      "7997    False\n",
      "7998    False\n",
      "7999    False\n",
      "Name: current_balance, Length: 7994, dtype: bool\n"
     ]
    }
   ],
   "source": [
    "print((newdf['current_balance'] < (Q1 - 1.5 * IQR)) | (newdf['current_balance'] > (Q3 + 1.5 * IQR)))"
   ]
  },
  {
   "cell_type": "code",
   "execution_count": 13,
   "metadata": {},
   "outputs": [
    {
     "name": "stdout",
     "output_type": "stream",
     "text": [
      "8.34862967968697\n"
     ]
    },
    {
     "data": {
      "text/plain": [
       "count     7994.000000\n",
       "mean      1517.068802\n",
       "std       3169.485002\n",
       "min      -3058.000000\n",
       "25%        120.000000\n",
       "50%        545.500000\n",
       "75%       1694.000000\n",
       "max      81204.000000\n",
       "Name: current_balance, dtype: float64"
      ]
     },
     "execution_count": 13,
     "metadata": {},
     "output_type": "execute_result"
    }
   ],
   "source": [
    "print(newdf['current_balance'].skew())\n",
    "newdf['current_balance'].describe()"
   ]
  },
  {
   "cell_type": "code",
   "execution_count": 14,
   "metadata": {},
   "outputs": [
    {
     "name": "stdout",
     "output_type": "stream",
     "text": [
      "age                        0.875432\n",
      "current_balance            8.348630\n",
      "last_contact_day           0.109078\n",
      "last_contact_duration_s    2.192756\n",
      "campaign                   5.852508\n",
      "previous                   7.895618\n",
      "dtype: float64\n"
     ]
    }
   ],
   "source": [
    "print(newdf.skew())"
   ]
  },
  {
   "cell_type": "code",
   "execution_count": 15,
   "metadata": {},
   "outputs": [
    {
     "name": "stdout",
     "output_type": "stream",
     "text": [
      "77.0\n",
      "838.0\n"
     ]
    }
   ],
   "source": [
    "print(newdf['last_contact_duration_s'].quantile(0.10))\n",
    "print(newdf['last_contact_duration_s'].quantile(0.90))"
   ]
  },
  {
   "cell_type": "code",
   "execution_count": 16,
   "metadata": {},
   "outputs": [
    {
     "name": "stdout",
     "output_type": "stream",
     "text": [
      "0.843852404810913\n"
     ]
    }
   ],
   "source": [
    "newdf[\"last_contact_duration_s\"] = np.where(newdf[\"last_contact_duration_s\"] <77.0, 77.0,newdf['last_contact_duration_s'])\n",
    "newdf[\"last_contact_duration_s\"] = np.where(newdf[\"last_contact_duration_s\"] >838.0, 838.0,newdf['last_contact_duration_s'])\n",
    "print(newdf['last_contact_duration_s'].skew())"
   ]
  },
  {
   "cell_type": "code",
   "execution_count": 17,
   "metadata": {},
   "outputs": [
    {
     "name": "stdout",
     "output_type": "stream",
     "text": [
      "0.0\n",
      "3872.199999999999\n"
     ]
    }
   ],
   "source": [
    "print(newdf['current_balance'].quantile(0.10))\n",
    "print(newdf['current_balance'].quantile(0.90))"
   ]
  },
  {
   "cell_type": "code",
   "execution_count": 18,
   "metadata": {},
   "outputs": [
    {
     "name": "stdout",
     "output_type": "stream",
     "text": [
      "1.1429002417912795\n"
     ]
    }
   ],
   "source": [
    "newdf[\"current_balance\"] = np.where(newdf[\"current_balance\"] <0.0, 0.0,newdf['current_balance'])\n",
    "newdf[\"current_balance\"] = np.where(newdf[\"current_balance\"] >3868.600000000002, 3868.600000000002,newdf['current_balance'])\n",
    "print(newdf['current_balance'].skew())"
   ]
  },
  {
   "cell_type": "code",
   "execution_count": 19,
   "metadata": {},
   "outputs": [
    {
     "data": {
      "text/plain": [
       "<matplotlib.axes._subplots.AxesSubplot at 0x122251a10>"
      ]
     },
     "execution_count": 19,
     "metadata": {},
     "output_type": "execute_result"
    },
    {
     "data": {
      "image/png": "[encoded data removed]",
      "text/plain": [
       "<Figure size 432x288 with 1 Axes>"
      ]
     },
     "metadata": {
      "needs_background": "light"
     },
     "output_type": "display_data"
    }
   ],
   "source": [
    "import seaborn as sns\n",
    "sns.boxplot(x=newdf['current_balance'])"
   ]
  },
  {
   "cell_type": "code",
   "execution_count": 20,
   "metadata": {},
   "outputs": [
    {
     "data": {
      "image/png": "[encoded data removed]",
      "text/plain": [
       "<Figure size 1152x576 with 1 Axes>"
      ]
     },
     "metadata": {
      "needs_background": "light"
     },
     "output_type": "display_data"
    }
   ],
   "source": [
    "fig, ax = plt.subplots(figsize=(16,8))\n",
    "ax.scatter(newdf['current_balance'], newdf['age'])\n",
    "ax.set_xlabel('current_balance')\n",
    "ax.set_ylabel('accountID')\n",
    "plt.show()"
   ]
  },
  {
   "cell_type": "code",
   "execution_count": 21,
   "metadata": {},
   "outputs": [
    {
     "name": "stdout",
     "output_type": "stream",
     "text": [
      "1.1429002417912795\n"
     ]
    },
    {
     "data": {
      "text/plain": [
       "count    7994.000000\n",
       "mean     1111.386415\n",
       "std      1281.899962\n",
       "min         0.000000\n",
       "25%       120.000000\n",
       "50%       545.500000\n",
       "75%      1694.000000\n",
       "max      3868.600000\n",
       "Name: current_balance, dtype: float64"
      ]
     },
     "execution_count": 21,
     "metadata": {},
     "output_type": "execute_result"
    }
   ],
   "source": [
    "print(newdf['current_balance'].skew())\n",
    "newdf['current_balance'].describe()"
   ]
  },
  {
   "cell_type": "code",
   "execution_count": 22,
   "metadata": {},
   "outputs": [
    {
     "data": {
      "image/png": "[encoded data removed]",
      "text/plain": [
       "<Figure size 720x576 with 1 Axes>"
      ]
     },
     "metadata": {
      "needs_background": "light"
     },
     "output_type": "display_data"
    }
   ],
   "source": [
    "plt.figure(figsize=[10,8])\n",
    "n, bins, patches = plt.hist(newdf['current_balance'], bins=8, color='#0504aa',alpha=0.7, rwidth=0.85)\n",
    "plt.grid(axis='y', alpha=0.75)\n",
    "plt.xlabel('Value',fontsize=15)\n",
    "plt.ylabel('Frequency',fontsize=15)\n",
    "plt.xticks(fontsize=15)\n",
    "plt.yticks(fontsize=15)\n",
    "plt.ylabel('Frequency',fontsize=15)\n",
    "plt.title('Normal Distribution Histogram',fontsize=15)\n",
    "plt.show()"
   ]
  },
  {
   "cell_type": "code",
   "execution_count": 23,
   "metadata": {},
   "outputs": [
    {
     "data": {
      "text/plain": [
       "<matplotlib.axes._subplots.AxesSubplot at 0x1a26091550>"
      ]
     },
     "execution_count": 23,
     "metadata": {},
     "output_type": "execute_result"
    },
    {
     "data": {
      "image/png": "[encoded data removed]",
      "text/plain": [
       "<Figure size 432x288 with 1 Axes>"
      ]
     },
     "metadata": {},
     "output_type": "display_data"
    }
   ],
   "source": [
    "import seaborn as sns\n",
    "\n",
    "sns.set_style('darkgrid')\n",
    "sns.distplot(newdf['current_balance'])"
   ]
  },
  {
   "cell_type": "code",
   "execution_count": null,
   "metadata": {},
   "outputs": [],
   "source": [
    "categorical_cols = newdf.select_dtypes(np.object).columns\n",
    "numerical_cols = newdf.select_dtypes(np.number).columns\n",
    "#print('All Categorical Coulmns with Type: ', categorical_cols)\n",
    "print('All Features: ', numerical_cols)"
   ]
  },
  {
   "cell_type": "code",
   "execution_count": 24,
   "metadata": {},
   "outputs": [
    {
     "name": "stdout",
     "output_type": "stream",
     "text": [
      "Frequencies of each label in the dataset: \n"
     ]
    },
    {
     "data": {
      "text/plain": [
       "no     0.521641\n",
       "yes    0.478359\n",
       "Name: made_deposit, dtype: float64"
      ]
     },
     "execution_count": 24,
     "metadata": {},
     "output_type": "execute_result"
    }
   ],
   "source": [
    "print('Frequencies of each label in the dataset: ')\n",
    "newdf['made_deposit'].value_counts(normalize=True)"
   ]
  },
  {
   "cell_type": "code",
   "execution_count": null,
   "metadata": {},
   "outputs": [],
   "source": [
    "newdf.shape"
   ]
  },
  {
   "cell_type": "code",
   "execution_count": 25,
   "metadata": {},
   "outputs": [],
   "source": [
    "newdf = pd.get_dummies(newdf, prefix_sep='_', columns=['last_contact_month', 'job','last_contact' ,'married', 'education', 'defaulted?', 'housing', 'has_loan', 'poutcome'],drop_first=True)\n"
   ]
  },
  {
   "cell_type": "code",
   "execution_count": 26,
   "metadata": {},
   "outputs": [],
   "source": [
    "cd = ['last_contact_month_aug','last_contact_month_jan','last_contact_month_jun','last_contact_month_nov','job_housemaid','job_management','job_technician','job_unemployed','job_unknown','last_contact_telephone','education_unknown']\n",
    "\n",
    "\n",
    "newdf = newdf.drop(columns=cd, axis=1)"
   ]
  },
  {
   "cell_type": "code",
   "execution_count": 27,
   "metadata": {},
   "outputs": [
    {
     "name": "stdout",
     "output_type": "stream",
     "text": [
      "<class 'pandas.core.frame.DataFrame'>\n",
      "Int64Index: 7994 entries, 0 to 7999\n",
      "Data columns (total 32 columns):\n",
      " #   Column                   Non-Null Count  Dtype  \n",
      "---  ------                   --------------  -----  \n",
      " 0   age                      7994 non-null   int64  \n",
      " 1   current_balance          7994 non-null   float64\n",
      " 2   last_contact_day         7994 non-null   int64  \n",
      " 3   last_contact_duration_s  7994 non-null   float64\n",
      " 4   campaign                 7994 non-null   int64  \n",
      " 5   previous                 7994 non-null   int64  \n",
      " 6   made_deposit             7994 non-null   object \n",
      " 7   last_contact_month_dec   7994 non-null   uint8  \n",
      " 8   last_contact_month_feb   7994 non-null   uint8  \n",
      " 9   last_contact_month_jul   7994 non-null   uint8  \n",
      " 10  last_contact_month_mar   7994 non-null   uint8  \n",
      " 11  last_contact_month_may   7994 non-null   uint8  \n",
      " 12  last_contact_month_oct   7994 non-null   uint8  \n",
      " 13  last_contact_month_sep   7994 non-null   uint8  \n",
      " 14  job_blue-collar          7994 non-null   uint8  \n",
      " 15  job_entrepreneur         7994 non-null   uint8  \n",
      " 16  job_retired              7994 non-null   uint8  \n",
      " 17  job_self-employed        7994 non-null   uint8  \n",
      " 18  job_services             7994 non-null   uint8  \n",
      " 19  job_student              7994 non-null   uint8  \n",
      " 20  last_contact_cellular    7994 non-null   uint8  \n",
      " 21  last_contact_unknown     7994 non-null   uint8  \n",
      " 22  married_married          7994 non-null   uint8  \n",
      " 23  married_single           7994 non-null   uint8  \n",
      " 24  education_secondary      7994 non-null   uint8  \n",
      " 25  education_tertiary       7994 non-null   uint8  \n",
      " 26  defaulted?_yes           7994 non-null   uint8  \n",
      " 27  housing_yes              7994 non-null   uint8  \n",
      " 28  has_loan_yes             7994 non-null   uint8  \n",
      " 29  poutcome_other           7994 non-null   uint8  \n",
      " 30  poutcome_success         7994 non-null   uint8  \n",
      " 31  poutcome_unknown         7994 non-null   uint8  \n",
      "dtypes: float64(2), int64(4), object(1), uint8(25)\n",
      "memory usage: 694.8+ KB\n"
     ]
    }
   ],
   "source": [
    "newdf.info()"
   ]
  },
  {
   "cell_type": "code",
   "execution_count": 28,
   "metadata": {},
   "outputs": [],
   "source": [
    "targetName=\"made_deposit\"\n",
    "newdf.columns.get_loc(targetName)\n",
    "featureNames=newdf.columns[np.where(newdf.columns != targetName)]\n",
    "X = newdf[featureNames].values\n",
    "y = newdf[targetName].values.ravel()"
   ]
  },
  {
   "cell_type": "code",
   "execution_count": 29,
   "metadata": {},
   "outputs": [],
   "source": [
    "from sklearn.preprocessing import MinMaxScaler\n",
    "\n",
    "mm_scaler = MinMaxScaler()\n",
    "X = mm_scaler.fit_transform(X)"
   ]
  },
  {
   "cell_type": "code",
   "execution_count": 30,
   "metadata": {},
   "outputs": [
    {
     "data": {
      "text/plain": [
       "<matplotlib.axes._subplots.AxesSubplot at 0x1a26938990>"
      ]
     },
     "execution_count": 30,
     "metadata": {},
     "output_type": "execute_result"
    },
    {
     "data": {
      "image/png": "[encoded data removed]",
      "text/plain": [
       "<Figure size 432x288 with 1 Axes>"
      ]
     },
     "metadata": {},
     "output_type": "display_data"
    }
   ],
   "source": [
    "import seaborn as sns\n",
    "\n",
    "sns.set_style('darkgrid')\n",
    "sns.distplot(X[22])"
   ]
  },
  {
   "cell_type": "markdown",
   "metadata": {},
   "source": [
    "# Split Data"
   ]
  },
  {
   "cell_type": "code",
   "execution_count": 31,
   "metadata": {},
   "outputs": [],
   "source": [
    "from sklearn.model_selection import train_test_split\n",
    "X_train, X_test, y_train, y_test = train_test_split(X, y, test_size=0.20, random_state=1)"
   ]
  },
  {
   "cell_type": "markdown",
   "metadata": {},
   "source": [
    "# First model - LogisticRegression"
   ]
  },
  {
   "cell_type": "code",
   "execution_count": 134,
   "metadata": {},
   "outputs": [
    {
     "data": {
      "text/plain": [
       "LogisticRegression(C=1.0, class_weight=None, dual=False, fit_intercept=True,\n",
       "                   intercept_scaling=1, l1_ratio=None, max_iter=100,\n",
       "                   multi_class='ovr', n_jobs=None, penalty='l1', random_state=1,\n",
       "                   solver='liblinear', tol=0.0001, verbose=0, warm_start=False)"
      ]
     },
     "execution_count": 134,
     "metadata": {},
     "output_type": "execute_result"
    }
   ],
   "source": [
    "from sklearn.linear_model import LogisticRegression\n",
    "logisticRegr = LogisticRegression(penalty='l1',solver='liblinear',multi_class='ovr' ,random_state=1)\n",
    "logisticRegr.fit(X_train, y_train)"
   ]
  },
  {
   "cell_type": "code",
   "execution_count": 135,
   "metadata": {},
   "outputs": [],
   "source": [
    "predictions = logisticRegr.predict(X_test)"
   ]
  },
  {
   "cell_type": "code",
   "execution_count": 136,
   "metadata": {},
   "outputs": [
    {
     "name": "stdout",
     "output_type": "stream",
     "text": [
      "0.8205128205128205\n"
     ]
    }
   ],
   "source": [
    "score = logisticRegr.score(X_test, y_test)\n",
    "print(score)"
   ]
  },
  {
   "cell_type": "code",
   "execution_count": 70,
   "metadata": {},
   "outputs": [
    {
     "data": {
      "image/png": "[encoded data removed]",
      "text/plain": [
       "<Figure size 360x360 with 1 Axes>"
      ]
     },
     "metadata": {},
     "output_type": "display_data"
    }
   ],
   "source": [
    "from sklearn.metrics import confusion_matrix\n",
    "mat = confusion_matrix(y_test, predictions)\n",
    "plt.figure(figsize=(5,5))\n",
    "sns.heatmap(mat.T, square=True, annot=True, fmt='d', cbar=False)\n",
    "plt.xlabel('true label')\n",
    "plt.ylabel('predicted label');\n",
    "plt.title('Logistic Regression Confusion Matrix');"
   ]
  },
  {
   "cell_type": "markdown",
   "metadata": {},
   "source": [
    "# 2nd model - DecisionTreeClassifier"
   ]
  },
  {
   "cell_type": "code",
   "execution_count": 77,
   "metadata": {},
   "outputs": [
    {
     "data": {
      "text/plain": [
       "DecisionTreeClassifier(ccp_alpha=0.0, class_weight=None, criterion='entropy',\n",
       "                       max_depth=10, max_features=None, max_leaf_nodes=None,\n",
       "                       min_impurity_decrease=0.0, min_impurity_split=None,\n",
       "                       min_samples_leaf=2, min_samples_split=2,\n",
       "                       min_weight_fraction_leaf=0.0, presort='deprecated',\n",
       "                       random_state=None, splitter='random')"
      ]
     },
     "execution_count": 77,
     "metadata": {},
     "output_type": "execute_result"
    }
   ],
   "source": [
    "from sklearn.tree import DecisionTreeClassifier\n",
    "TreeClassifier = DecisionTreeClassifier(criterion='entropy',splitter='random',max_depth=10,min_samples_split=2,\n",
    "                                        min_samples_leaf=2)\n",
    "TreeClassifier.fit(X_train, y_train)"
   ]
  },
  {
   "cell_type": "code",
   "execution_count": 78,
   "metadata": {},
   "outputs": [],
   "source": [
    "predictions2 = TreeClassifier.predict(X_test)"
   ]
  },
  {
   "cell_type": "code",
   "execution_count": 79,
   "metadata": {},
   "outputs": [
    {
     "name": "stdout",
     "output_type": "stream",
     "text": [
      "0.8311444652908068\n"
     ]
    }
   ],
   "source": [
    "score2 = TreeClassifier.score(X_test, y_test)\n",
    "print(score2)"
   ]
  },
  {
   "cell_type": "code",
   "execution_count": 80,
   "metadata": {},
   "outputs": [
    {
     "data": {
      "image/png": "[encoded data removed]",
      "text/plain": [
       "<Figure size 360x360 with 1 Axes>"
      ]
     },
     "metadata": {},
     "output_type": "display_data"
    }
   ],
   "source": [
    "from sklearn.metrics import confusion_matrix\n",
    "mat = confusion_matrix(y_test, predictions2)\n",
    "plt.figure(figsize=(5,5))\n",
    "sns.heatmap(mat.T, square=True, annot=True, fmt='d', cbar=False)\n",
    "plt.xlabel('true label')\n",
    "plt.ylabel('predicted label');\n",
    "plt.title('Decision Tree Classifier Confusion Matrix');"
   ]
  },
  {
   "cell_type": "markdown",
   "metadata": {},
   "source": [
    "# 3rd model - "
   ]
  },
  {
   "cell_type": "code",
   "execution_count": 213,
   "metadata": {},
   "outputs": [
    {
     "name": "stderr",
     "output_type": "stream",
     "text": [
      "/Users/khalfanalkindi/opt/anaconda3/lib/python3.7/site-packages/sklearn/neural_network/_multilayer_perceptron.py:571: ConvergenceWarning: Stochastic Optimizer: Maximum iterations (200) reached and the optimization hasn't converged yet.\n",
      "  % self.max_iter, ConvergenceWarning)\n"
     ]
    },
    {
     "data": {
      "text/plain": [
       "MLPClassifier(activation='tanh', alpha=0.0001, batch_size='auto', beta_1=0.9,\n",
       "              beta_2=0.999, early_stopping=False, epsilon=1e-08,\n",
       "              hidden_layer_sizes=(200, 23), learning_rate='constant',\n",
       "              learning_rate_init=0.001, max_fun=15000, max_iter=200,\n",
       "              momentum=0.9, n_iter_no_change=10, nesterovs_momentum=True,\n",
       "              power_t=0.5, random_state=None, shuffle=True, solver='sgd',\n",
       "              tol=0.0001, validation_fraction=0.1, verbose=False,\n",
       "              warm_start=False)"
      ]
     },
     "execution_count": 213,
     "metadata": {},
     "output_type": "execute_result"
    }
   ],
   "source": [
    "from sklearn.neural_network import MLPClassifier\n",
    "MLPClassifier = MLPClassifier(activation='tanh',hidden_layer_sizes=(200,23),solver='sgd')\n",
    "MLPClassifier.fit(X_train, y_train)"
   ]
  },
  {
   "cell_type": "code",
   "execution_count": 214,
   "metadata": {},
   "outputs": [],
   "source": [
    "predictions3 = MLPClassifier.predict(X_test)"
   ]
  },
  {
   "cell_type": "code",
   "execution_count": 215,
   "metadata": {},
   "outputs": [
    {
     "name": "stdout",
     "output_type": "stream",
     "text": [
      "0.8267667292057536\n"
     ]
    }
   ],
   "source": [
    "score3 = MLPClassifier.score(X_test, y_test)\n",
    "print(score3)"
   ]
  },
  {
   "cell_type": "code",
   "execution_count": 203,
   "metadata": {},
   "outputs": [
    {
     "data": {
      "image/png": "[encoded data removed]",
      "text/plain": [
       "<Figure size 360x360 with 1 Axes>"
      ]
     },
     "metadata": {},
     "output_type": "display_data"
    }
   ],
   "source": [
    "from sklearn.metrics import confusion_matrix\n",
    "mat = confusion_matrix(y_test, predictions3)\n",
    "plt.figure(figsize=(5,5))\n",
    "sns.heatmap(mat.T, square=True, annot=True, fmt='d', cbar=False)\n",
    "plt.xlabel('true label')\n",
    "plt.ylabel('predicted label');\n",
    "plt.title('MLPClassifier Confusion Matrix');"
   ]
  },
  {
   "cell_type": "markdown",
   "metadata": {},
   "source": [
    "# Models Comparison"
   ]
  },
  {
   "cell_type": "code",
   "execution_count": 143,
   "metadata": {},
   "outputs": [
    {
     "data": {
      "image/png": "[encoded data removed]",
      "text/plain": [
       "<Figure size 432x288 with 1 Axes>"
      ]
     },
     "metadata": {},
     "output_type": "display_data"
    }
   ],
   "source": [
    "from sklearn.metrics import plot_roc_curve\n",
    "#disp = metrics.plot_roc_curve(logisticRegr,X_test, y_test),\n",
    "#metrics.plot_roc_curve(TreeClassifier,X_test, y_test),\n",
    "#metrics.plot_roc_curve(MLPClassifier,X_test, y_test);\n",
    " \n",
    "disp = plot_roc_curve(logisticRegr, X_test, y_test) \n",
    "plot_roc_curve(TreeClassifier, X_test, y_test, ax=disp.ax_);\n",
    "plot_roc_curve(MLPClassifier, X_test, y_test, ax=disp.ax_);"
   ]
  },
  {
   "cell_type": "code",
   "execution_count": 147,
   "metadata": {},
   "outputs": [
    {
     "data": {
      "text/plain": [
       "0.8242652821316614"
      ]
     },
     "execution_count": 147,
     "metadata": {},
     "output_type": "execute_result"
    }
   ],
   "source": [
    "from sklearn.model_selection import cross_val_score\n",
    "scores = cross_val_score(logisticRegr, X_test, y_test, cv=5)\n",
    "scores.mean()"
   ]
  },
  {
   "cell_type": "code",
   "execution_count": 148,
   "metadata": {},
   "outputs": [
    {
     "data": {
      "text/plain": [
       "0.7786206896551724"
      ]
     },
     "execution_count": 148,
     "metadata": {},
     "output_type": "execute_result"
    }
   ],
   "source": [
    "from sklearn.model_selection import cross_val_score\n",
    "scores = cross_val_score(TreeClassifier, X_test, y_test, cv=5)\n",
    "scores.mean()"
   ]
  },
  {
   "cell_type": "code",
   "execution_count": 189,
   "metadata": {},
   "outputs": [
    {
     "name": "stderr",
     "output_type": "stream",
     "text": [
      "/Users/khalfanalkindi/opt/anaconda3/lib/python3.7/site-packages/sklearn/neural_network/_multilayer_perceptron.py:571: ConvergenceWarning: Stochastic Optimizer: Maximum iterations (200) reached and the optimization hasn't converged yet.\n",
      "  % self.max_iter, ConvergenceWarning)\n",
      "/Users/khalfanalkindi/opt/anaconda3/lib/python3.7/site-packages/sklearn/neural_network/_multilayer_perceptron.py:571: ConvergenceWarning: Stochastic Optimizer: Maximum iterations (200) reached and the optimization hasn't converged yet.\n",
      "  % self.max_iter, ConvergenceWarning)\n",
      "/Users/khalfanalkindi/opt/anaconda3/lib/python3.7/site-packages/sklearn/neural_network/_multilayer_perceptron.py:571: ConvergenceWarning: Stochastic Optimizer: Maximum iterations (200) reached and the optimization hasn't converged yet.\n",
      "  % self.max_iter, ConvergenceWarning)\n",
      "/Users/khalfanalkindi/opt/anaconda3/lib/python3.7/site-packages/sklearn/neural_network/_multilayer_perceptron.py:571: ConvergenceWarning: Stochastic Optimizer: Maximum iterations (200) reached and the optimization hasn't converged yet.\n",
      "  % self.max_iter, ConvergenceWarning)\n"
     ]
    },
    {
     "data": {
      "text/plain": [
       "0.8255113636363637"
      ]
     },
     "execution_count": 189,
     "metadata": {},
     "output_type": "execute_result"
    }
   ],
   "source": [
    "from sklearn.model_selection import cross_val_score\n",
    "scores = cross_val_score(MLPClassifier, X_test, y_test, cv=5)\n",
    "scores.mean()"
   ]
  }
 ],
 "metadata": {
  "kernelspec": {
   "display_name": "Python 3",
   "language": "python",
   "name": "python3"
  },
  "language_info": {
   "codemirror_mode": {
    "name": "ipython",
    "version": 3
   },
   "file_extension": ".py",
   "mimetype": "text/x-python",
   "name": "python",
   "nbconvert_exporter": "python",
   "pygments_lexer": "ipython3",
   "version": "3.7.5"
  }
 },
 "nbformat": 4,
 "nbformat_minor": 2
}
